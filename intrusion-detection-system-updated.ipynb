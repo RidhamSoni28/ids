{
 "cells": [
  {
   "cell_type": "code",
   "execution_count": 2,
   "id": "95e717c3",
   "metadata": {
    "_cell_guid": "b1076dfc-b9ad-4769-8c92-a6c4dae69d19",
    "_uuid": "8f2839f25d086af736a60e9eeb907d3b93b6e0e5",
    "execution": {
     "iopub.execute_input": "2023-03-26T21:27:28.570889Z",
     "iopub.status.busy": "2023-03-26T21:27:28.570321Z",
     "iopub.status.idle": "2023-03-26T21:27:28.596399Z",
     "shell.execute_reply": "2023-03-26T21:27:28.594982Z"
    },
    "papermill": {
     "duration": 0.039189,
     "end_time": "2023-03-26T21:27:28.599437",
     "exception": false,
     "start_time": "2023-03-26T21:27:28.560248",
     "status": "completed"
    },
    "tags": []
   },
   "outputs": [
    {
     "name": "stdout",
     "output_type": "stream",
     "text": [
      "C:/Users/apatel/Downloads/archive/02-14-2018.csv\n",
      "C:/Users/apatel/Downloads/archive/02-15-2018.csv\n",
      "C:/Users/apatel/Downloads/archive/02-16-2018.csv\n",
      "C:/Users/apatel/Downloads/archive/02-20-2018.csv\n",
      "C:/Users/apatel/Downloads/archive/02-21-2018.csv\n",
      "C:/Users/apatel/Downloads/archive/02-22-2018.csv\n",
      "C:/Users/apatel/Downloads/archive/02-23-2018.csv\n",
      "C:/Users/apatel/Downloads/archive/02-28-2018.csv\n",
      "C:/Users/apatel/Downloads/archive/03-01-2018.csv\n",
      "C:/Users/apatel/Downloads/archive/03-02-2018.csv\n"
     ]
    }
   ],
   "source": [
    "import numpy as np # linear algebra\n",
    "import pandas as pd # data processing, CSV file I/O (e.g. pd.read_csv)\n",
    "import ast\n",
    "\n",
    "\n",
    "# Input data files are available in the read-only \"../input/\" directory\n",
    "# For example, running this (by clicking run or pressing Shift+Enter) will list all files under the input directory\n",
    "file_names=[]\n",
    "Datasets=dict()\n",
    "import os\n",
    "for dirname, _, filenames in os.walk('C:/Users/apatel/Downloads/archive/'):\n",
    "    for filename in filenames:\n",
    "        print(os.path.join(dirname, filename))\n",
    "        file_names.append(os.path.join(dirname,filename))\n",
    "        "
   ]
  },
  {
   "cell_type": "code",
   "execution_count": 3,
   "id": "63b4ec07",
   "metadata": {
    "execution": {
     "iopub.execute_input": "2023-03-26T21:27:28.614900Z",
     "iopub.status.busy": "2023-03-26T21:27:28.614488Z",
     "iopub.status.idle": "2023-03-26T21:27:47.485744Z",
     "shell.execute_reply": "2023-03-26T21:27:47.484702Z"
    },
    "papermill": {
     "duration": 18.88217,
     "end_time": "2023-03-26T21:27:47.488379",
     "exception": false,
     "start_time": "2023-03-26T21:27:28.606209",
     "status": "completed"
    },
    "tags": []
   },
   "outputs": [],
   "source": [
    "df_dataset=pd.read_csv('C:/Users/apatel/Downloads/archive/02-22-2018.csv',low_memory=False)"
   ]
  },
  {
   "cell_type": "code",
   "execution_count": 4,
   "id": "647f34bb",
   "metadata": {
    "execution": {
     "iopub.execute_input": "2023-03-26T21:27:47.503072Z",
     "iopub.status.busy": "2023-03-26T21:27:47.502687Z",
     "iopub.status.idle": "2023-03-26T21:27:49.716219Z",
     "shell.execute_reply": "2023-03-26T21:27:49.714837Z"
    },
    "papermill": {
     "duration": 2.224585,
     "end_time": "2023-03-26T21:27:49.719383",
     "exception": false,
     "start_time": "2023-03-26T21:27:47.494798",
     "status": "completed"
    },
    "scrolled": true,
    "tags": []
   },
   "outputs": [],
   "source": [
    "df_dataset['Dst Port'] = df_dataset['Dst Port'].astype(str).astype(int)\n",
    "df_dataset['Protocol'] = df_dataset['Protocol'].astype(int)\n",
    "df_dataset['Flow Duration'] = df_dataset['Flow Duration'].astype(int)\n",
    "df_dataset['Tot Fwd Pkts'] = df_dataset['Tot Fwd Pkts'].astype(int)\n",
    "df_dataset['Tot Bwd Pkts'] = df_dataset['Tot Bwd Pkts'].astype(int)\n",
    "df_dataset['TotLen Fwd Pkts'] = df_dataset['TotLen Fwd Pkts'].astype(int)\n",
    "df_dataset['TotLen Bwd Pkts'] = df_dataset['TotLen Bwd Pkts'].astype(int)\n",
    "df_dataset['Fwd Pkt Len Max'] = df_dataset['Fwd Pkt Len Max'].astype(int)\n",
    "df_dataset['Fwd Pkt Len Min'] = df_dataset['Fwd Pkt Len Min'].astype(int)\n",
    "df_dataset['Fwd Pkt Len Mean'] = df_dataset['Fwd Pkt Len Mean'].astype(float)\n",
    "df_dataset['Fwd Pkt Len Std'] = df_dataset['Fwd Pkt Len Std'].astype(float)\n",
    "df_dataset['Bwd Pkt Len Max'] = df_dataset['Bwd Pkt Len Max'].astype(int)\n",
    "df_dataset['Bwd Pkt Len Min'] = df_dataset['Bwd Pkt Len Min'].astype(int)\n",
    "df_dataset['Bwd Pkt Len Mean'] = df_dataset['Bwd Pkt Len Mean'].astype(float)\n",
    "df_dataset['Bwd Pkt Len Std'] = df_dataset['Bwd Pkt Len Std'].astype(float)\n",
    "df_dataset['Flow Byts/s'] = df_dataset['Flow Byts/s'].astype(float)\n",
    "df_dataset['Flow Pkts/s'] = df_dataset['Flow Pkts/s'].astype(float)\n",
    "df_dataset['Flow IAT Mean'] = df_dataset['Flow IAT Mean'].astype(float)\n",
    "df_dataset['Flow IAT Std'] = df_dataset['Flow IAT Std'].astype(float)\n",
    "df_dataset['Flow IAT Max'] = df_dataset['Flow IAT Max'].astype(int)\n",
    "df_dataset['Flow IAT Min'] = df_dataset['Flow IAT Min'].astype(int)\n",
    "df_dataset['Fwd IAT Tot'] = df_dataset['Fwd IAT Tot'].astype(int)\n",
    "df_dataset['Fwd IAT Mean'] = df_dataset['Fwd IAT Mean'].astype(float)\n",
    "df_dataset['Fwd IAT Std'] = df_dataset['Fwd IAT Std'].astype(float)\n",
    "df_dataset['Fwd IAT Max'] = df_dataset['Fwd IAT Max'].astype(int)\n",
    "df_dataset['Fwd IAT Min'] = df_dataset['Fwd IAT Min'].astype(int)\n",
    "df_dataset['Bwd IAT Tot'] = df_dataset['Bwd IAT Tot'].astype(int)\n",
    "df_dataset['Bwd IAT Mean'] = df_dataset['Bwd IAT Mean'].astype(float)\n",
    "df_dataset['Bwd IAT Std'] = df_dataset['Bwd IAT Std'].astype(float)\n",
    "df_dataset['Bwd IAT Max'] = df_dataset['Bwd IAT Max'].astype(int)\n",
    "df_dataset['Bwd IAT Min'] = df_dataset['Bwd IAT Min'].astype(int)\n",
    "df_dataset['Fwd PSH Flags'] = df_dataset['Fwd PSH Flags'].astype(int)\n",
    "df_dataset['Bwd PSH Flags'] = df_dataset['Bwd PSH Flags'].astype(int)\n",
    "df_dataset['Fwd URG Flags'] = df_dataset['Fwd URG Flags'].astype(int)\n",
    "df_dataset['Bwd URG Flags'] = df_dataset['Bwd URG Flags'].astype(int)\n",
    "df_dataset['Fwd Header Len'] = df_dataset['Fwd Header Len'].astype(int)\n",
    "df_dataset['Bwd Header Len'] = df_dataset['Bwd Header Len'].astype(int)\n",
    "df_dataset['Fwd Pkts/s'] = df_dataset['Fwd Pkts/s'].astype(float)\n",
    "df_dataset['Bwd Pkts/s'] = df_dataset['Bwd Pkts/s'].astype(float)\n",
    "df_dataset['Pkt Len Min'] = df_dataset['Pkt Len Min'].astype(int)\n",
    "df_dataset['Pkt Len Max'] = df_dataset['Pkt Len Max'].astype(int)\n",
    "df_dataset['Pkt Len Mean'] = df_dataset['Pkt Len Mean'].astype(float)\n",
    "df_dataset['Pkt Len Std'] = df_dataset['Pkt Len Std'].astype(float)\n",
    "df_dataset['Pkt Len Var'] = df_dataset['Pkt Len Var'].astype(float)\n",
    "df_dataset['FIN Flag Cnt'] = df_dataset['FIN Flag Cnt'].astype(int)\n",
    "df_dataset['SYN Flag Cnt'] = df_dataset['SYN Flag Cnt'].astype(int)\n",
    "df_dataset['RST Flag Cnt'] = df_dataset['RST Flag Cnt'].astype(int)\n",
    "df_dataset['PSH Flag Cnt'] = df_dataset['PSH Flag Cnt'].astype(int)\n",
    "df_dataset['ACK Flag Cnt'] = df_dataset['ACK Flag Cnt'].astype(int)\n",
    "df_dataset['URG Flag Cnt'] = df_dataset['URG Flag Cnt'].astype(int)\n",
    "df_dataset['CWE Flag Count'] = df_dataset['CWE Flag Count'].astype(int)\n",
    "df_dataset['ECE Flag Cnt'] = df_dataset['ECE Flag Cnt'].astype(int)\n",
    "df_dataset['Down/Up Ratio'] = df_dataset['Down/Up Ratio'].astype(int)\n",
    "df_dataset['Pkt Size Avg'] = df_dataset['Pkt Size Avg'].astype(float)\n",
    "df_dataset['Fwd Seg Size Avg'] = df_dataset['Fwd Seg Size Avg'].astype(float)\n",
    "df_dataset['Bwd Seg Size Avg'] = df_dataset['Bwd Seg Size Avg'].astype(float)\n",
    "df_dataset['Fwd Byts/b Avg'] = df_dataset['Fwd Byts/b Avg'].astype(int)\n",
    "df_dataset['Fwd Pkts/b Avg'] = df_dataset['Fwd Pkts/b Avg'].astype(int)\n",
    "df_dataset['Fwd Blk Rate Avg'] = df_dataset['Fwd Blk Rate Avg'].astype(int)\n",
    "df_dataset['Bwd Byts/b Avg'] = df_dataset['Bwd Byts/b Avg'].astype(int)\n",
    "df_dataset['Bwd Blk Rate Avg'] = df_dataset['Bwd Blk Rate Avg'].astype(int)\n",
    "df_dataset['Subflow Fwd Pkts'] = df_dataset['Subflow Fwd Pkts'].astype(int)\n",
    "df_dataset['Subflow Fwd Byts'] = df_dataset['Subflow Fwd Byts'].astype(int)\n",
    "df_dataset['Subflow Bwd Pkts'] = df_dataset['Subflow Bwd Pkts'].astype(int)\n",
    "df_dataset['Subflow Bwd Byts'] = df_dataset['Subflow Bwd Byts'].astype(int)\n",
    "df_dataset['Init Fwd Win Byts'] = df_dataset['Init Fwd Win Byts'].astype(int)\n",
    "df_dataset['Init Bwd Win Byts'] = df_dataset['Init Bwd Win Byts'].astype(int)\n",
    "df_dataset['Fwd Act Data Pkts'] = df_dataset['Fwd Act Data Pkts'].astype(int)\n",
    "df_dataset['Fwd Seg Size Min'] = df_dataset['Fwd Seg Size Min'].astype(int)\n",
    "df_dataset['Active Mean'] = df_dataset['Active Mean'].astype(float)\n",
    "df_dataset['Active Std'] = df_dataset['Active Std'].astype(float)\n",
    "df_dataset['Active Max'] = df_dataset['Active Max'].astype(int)\n",
    "df_dataset['Active Min'] = df_dataset['Active Min'].astype(int)\n",
    "df_dataset['Idle Mean'] = df_dataset['Idle Mean'].astype(float)\n",
    "df_dataset['Idle Std'] = df_dataset['Idle Std'].astype(float)\n",
    "df_dataset['Idle Max'] = df_dataset['Idle Max'].astype(int)\n",
    "df_dataset['Idle Min'] = df_dataset['Idle Min'].astype(int)"
   ]
  },
  {
   "cell_type": "code",
   "execution_count": 5,
   "id": "a21c0847",
   "metadata": {
    "execution": {
     "iopub.execute_input": "2023-03-26T21:27:49.734296Z",
     "iopub.status.busy": "2023-03-26T21:27:49.733870Z",
     "iopub.status.idle": "2023-03-26T21:27:50.810490Z",
     "shell.execute_reply": "2023-03-26T21:27:50.809362Z"
    },
    "papermill": {
     "duration": 1.087286,
     "end_time": "2023-03-26T21:27:50.813222",
     "exception": false,
     "start_time": "2023-03-26T21:27:49.725936",
     "status": "completed"
    },
    "tags": []
   },
   "outputs": [],
   "source": [
    "#handling null and infinite values\n",
    "df_dataset.replace(np.inf,np.NaN,inplace=True)\n",
    "df_dataset.dropna(inplace=True)"
   ]
  },
  {
   "cell_type": "code",
   "execution_count": 6,
   "id": "1cf80935",
   "metadata": {
    "execution": {
     "iopub.execute_input": "2023-03-26T21:27:50.828285Z",
     "iopub.status.busy": "2023-03-26T21:27:50.827526Z",
     "iopub.status.idle": "2023-03-26T21:27:52.193237Z",
     "shell.execute_reply": "2023-03-26T21:27:52.191998Z"
    },
    "papermill": {
     "duration": 1.376268,
     "end_time": "2023-03-26T21:27:52.195863",
     "exception": false,
     "start_time": "2023-03-26T21:27:50.819595",
     "status": "completed"
    },
    "tags": []
   },
   "outputs": [],
   "source": [
    "#Feature Selection : Selecting the best k features for training, K=10, A Decision Tree will be used to quantify feature relevance.\n",
    "from sklearn.ensemble import ExtraTreesClassifier"
   ]
  },
  {
   "cell_type": "code",
   "execution_count": 7,
   "id": "f21a3598",
   "metadata": {
    "execution": {
     "iopub.execute_input": "2023-03-26T21:27:52.210427Z",
     "iopub.status.busy": "2023-03-26T21:27:52.209966Z",
     "iopub.status.idle": "2023-03-26T21:27:52.215298Z",
     "shell.execute_reply": "2023-03-26T21:27:52.214066Z"
    },
    "papermill": {
     "duration": 0.015366,
     "end_time": "2023-03-26T21:27:52.217693",
     "exception": false,
     "start_time": "2023-03-26T21:27:52.202327",
     "status": "completed"
    },
    "tags": []
   },
   "outputs": [],
   "source": [
    "#Initializing the feature selection model. \n",
    "featureModel=ExtraTreesClassifier(criterion=\"entropy\", verbose=1)"
   ]
  },
  {
   "cell_type": "code",
   "execution_count": 8,
   "id": "0e3905bb",
   "metadata": {
    "execution": {
     "iopub.execute_input": "2023-03-26T21:27:52.232635Z",
     "iopub.status.busy": "2023-03-26T21:27:52.231951Z",
     "iopub.status.idle": "2023-03-26T21:27:52.649793Z",
     "shell.execute_reply": "2023-03-26T21:27:52.648196Z"
    },
    "papermill": {
     "duration": 0.428533,
     "end_time": "2023-03-26T21:27:52.652626",
     "exception": false,
     "start_time": "2023-03-26T21:27:52.224093",
     "status": "completed"
    },
    "tags": []
   },
   "outputs": [],
   "source": [
    "# Preparing the Data\n",
    "X=df_dataset.iloc[:,:-1]\n",
    "X.drop(['Timestamp'],axis=1,inplace=True)\n",
    "y=df_dataset['Label']"
   ]
  },
  {
   "cell_type": "code",
   "execution_count": 9,
   "id": "143c7f68",
   "metadata": {
    "execution": {
     "iopub.execute_input": "2023-03-26T21:27:52.667540Z",
     "iopub.status.busy": "2023-03-26T21:27:52.667110Z",
     "iopub.status.idle": "2023-03-26T21:29:23.881289Z",
     "shell.execute_reply": "2023-03-26T21:29:23.879995Z"
    },
    "papermill": {
     "duration": 91.230606,
     "end_time": "2023-03-26T21:29:23.889898",
     "exception": false,
     "start_time": "2023-03-26T21:27:52.659292",
     "status": "completed"
    },
    "tags": []
   },
   "outputs": [
    {
     "name": "stderr",
     "output_type": "stream",
     "text": [
      "[Parallel(n_jobs=1)]: Using backend SequentialBackend with 1 concurrent workers.\n",
      "[Parallel(n_jobs=1)]: Done 100 out of 100 | elapsed:   30.2s finished\n"
     ]
    }
   ],
   "source": [
    "#Fitting the model on our sets of features\n",
    "results=featureModel.fit(X,y)"
   ]
  },
  {
   "cell_type": "code",
   "execution_count": 10,
   "id": "3ec81397",
   "metadata": {
    "execution": {
     "iopub.execute_input": "2023-03-26T21:29:23.905976Z",
     "iopub.status.busy": "2023-03-26T21:29:23.904818Z",
     "iopub.status.idle": "2023-03-26T21:29:24.238132Z",
     "shell.execute_reply": "2023-03-26T21:29:24.236876Z"
    },
    "papermill": {
     "duration": 0.34448,
     "end_time": "2023-03-26T21:29:24.240886",
     "exception": false,
     "start_time": "2023-03-26T21:29:23.896406",
     "status": "completed"
    },
    "tags": []
   },
   "outputs": [
    {
     "data": {
      "text/plain": [
       "<Axes: >"
      ]
     },
     "execution_count": 10,
     "metadata": {},
     "output_type": "execute_result"
    },
    {
     "data": {
      "image/png": "[encoded data removed]",
      "text/plain": [
       "<Figure size 640x480 with 1 Axes>"
      ]
     },
     "metadata": {},
     "output_type": "display_data"
    }
   ],
   "source": [
    "# Relevance of the features\n",
    "pd.Series(results.feature_importances_[:10]).plot(kind='barh')"
   ]
  },
  {
   "cell_type": "code",
   "execution_count": 11,
   "id": "7a552034",
   "metadata": {
    "execution": {
     "iopub.execute_input": "2023-03-26T21:29:24.257739Z",
     "iopub.status.busy": "2023-03-26T21:29:24.257297Z",
     "iopub.status.idle": "2023-03-26T21:29:24.296190Z",
     "shell.execute_reply": "2023-03-26T21:29:24.295131Z"
    },
    "papermill": {
     "duration": 0.04976,
     "end_time": "2023-03-26T21:29:24.298866",
     "exception": false,
     "start_time": "2023-03-26T21:29:24.249106",
     "status": "completed"
    },
    "tags": []
   },
   "outputs": [
    {
     "data": {
      "text/html": [
       "<div>\n",
       "<style scoped>\n",
       "    .dataframe tbody tr th:only-of-type {\n",
       "        vertical-align: middle;\n",
       "    }\n",
       "\n",
       "    .dataframe tbody tr th {\n",
       "        vertical-align: top;\n",
       "    }\n",
       "\n",
       "    .dataframe thead th {\n",
       "        text-align: right;\n",
       "    }\n",
       "</style>\n",
       "<table border=\"1\" class=\"dataframe\">\n",
       "  <thead>\n",
       "    <tr style=\"text-align: right;\">\n",
       "      <th></th>\n",
       "      <th>Column</th>\n",
       "      <th>Score</th>\n",
       "    </tr>\n",
       "  </thead>\n",
       "  <tbody>\n",
       "    <tr>\n",
       "      <th>66</th>\n",
       "      <td>Subflow Bwd Byts</td>\n",
       "      <td>0.173242</td>\n",
       "    </tr>\n",
       "    <tr>\n",
       "      <th>46</th>\n",
       "      <td>SYN Flag Cnt</td>\n",
       "      <td>0.067957</td>\n",
       "    </tr>\n",
       "    <tr>\n",
       "      <th>0</th>\n",
       "      <td>Dst Port</td>\n",
       "      <td>0.060118</td>\n",
       "    </tr>\n",
       "    <tr>\n",
       "      <th>51</th>\n",
       "      <td>CWE Flag Count</td>\n",
       "      <td>0.049942</td>\n",
       "    </tr>\n",
       "    <tr>\n",
       "      <th>3</th>\n",
       "      <td>Flow Duration</td>\n",
       "      <td>0.032214</td>\n",
       "    </tr>\n",
       "    <tr>\n",
       "      <th>...</th>\n",
       "      <td>...</td>\n",
       "      <td>...</td>\n",
       "    </tr>\n",
       "    <tr>\n",
       "      <th>32</th>\n",
       "      <td>Fwd PSH Flags</td>\n",
       "      <td>0.000000</td>\n",
       "    </tr>\n",
       "    <tr>\n",
       "      <th>33</th>\n",
       "      <td>Bwd PSH Flags</td>\n",
       "      <td>0.000000</td>\n",
       "    </tr>\n",
       "    <tr>\n",
       "      <th>61</th>\n",
       "      <td>Bwd Pkts/b Avg</td>\n",
       "      <td>0.000000</td>\n",
       "    </tr>\n",
       "    <tr>\n",
       "      <th>50</th>\n",
       "      <td>URG Flag Cnt</td>\n",
       "      <td>0.000000</td>\n",
       "    </tr>\n",
       "    <tr>\n",
       "      <th>78</th>\n",
       "      <td>Idle Min</td>\n",
       "      <td>NaN</td>\n",
       "    </tr>\n",
       "  </tbody>\n",
       "</table>\n",
       "<p>79 rows × 2 columns</p>\n",
       "</div>"
      ],
      "text/plain": [
       "              Column     Score\n",
       "66  Subflow Bwd Byts  0.173242\n",
       "46      SYN Flag Cnt  0.067957\n",
       "0           Dst Port  0.060118\n",
       "51    CWE Flag Count  0.049942\n",
       "3      Flow Duration  0.032214\n",
       "..               ...       ...\n",
       "32     Fwd PSH Flags  0.000000\n",
       "33     Bwd PSH Flags  0.000000\n",
       "61    Bwd Pkts/b Avg  0.000000\n",
       "50      URG Flag Cnt  0.000000\n",
       "78          Idle Min       NaN\n",
       "\n",
       "[79 rows x 2 columns]"
      ]
     },
     "execution_count": 11,
     "metadata": {},
     "output_type": "execute_result"
    }
   ],
   "source": [
    "# mapping the important features to the column names\n",
    "columns=pd.Series(df_dataset.columns[:-1])\n",
    "features=pd.Series(results.feature_importances_)\n",
    "\n",
    "featureRel=pd.concat([columns,features],axis=1)\n",
    "featureRel.columns=['Column','Score']\n",
    "featureRel.sort_values(by=['Score'],ascending=False,inplace=True)\n",
    "\n",
    "#Displaying the most important features of teh dataset.\n",
    "featureRel"
   ]
  },
  {
   "cell_type": "code",
   "execution_count": 12,
   "id": "3633f467",
   "metadata": {
    "execution": {
     "iopub.execute_input": "2023-03-26T21:29:24.315527Z",
     "iopub.status.busy": "2023-03-26T21:29:24.315145Z",
     "iopub.status.idle": "2023-03-26T21:29:24.349848Z",
     "shell.execute_reply": "2023-03-26T21:29:24.348743Z"
    },
    "papermill": {
     "duration": 0.046243,
     "end_time": "2023-03-26T21:29:24.352248",
     "exception": false,
     "start_time": "2023-03-26T21:29:24.306005",
     "status": "completed"
    },
    "tags": []
   },
   "outputs": [],
   "source": [
    "#Selecting the  10 most relevant columns\n",
    "X=X[X.columns[:10]]"
   ]
  },
  {
   "cell_type": "code",
   "execution_count": 13,
   "id": "516733ba",
   "metadata": {
    "execution": {
     "iopub.execute_input": "2023-03-26T21:29:24.368322Z",
     "iopub.status.busy": "2023-03-26T21:29:24.367937Z",
     "iopub.status.idle": "2023-03-26T21:29:24.372625Z",
     "shell.execute_reply": "2023-03-26T21:29:24.371380Z"
    },
    "papermill": {
     "duration": 0.015697,
     "end_time": "2023-03-26T21:29:24.375056",
     "exception": false,
     "start_time": "2023-03-26T21:29:24.359359",
     "status": "completed"
    },
    "tags": []
   },
   "outputs": [],
   "source": [
    "# Feature Scaling using a MaxMinScaler\n",
    "from sklearn.preprocessing import MinMaxScaler"
   ]
  },
  {
   "cell_type": "code",
   "execution_count": 14,
   "id": "2f75e8c3",
   "metadata": {
    "execution": {
     "iopub.execute_input": "2023-03-26T21:29:24.391001Z",
     "iopub.status.busy": "2023-03-26T21:29:24.390596Z",
     "iopub.status.idle": "2023-03-26T21:29:24.395405Z",
     "shell.execute_reply": "2023-03-26T21:29:24.394095Z"
    },
    "papermill": {
     "duration": 0.015802,
     "end_time": "2023-03-26T21:29:24.397962",
     "exception": false,
     "start_time": "2023-03-26T21:29:24.382160",
     "status": "completed"
    },
    "tags": []
   },
   "outputs": [],
   "source": [
    "#Scaling the data\n",
    "scaler=MinMaxScaler()"
   ]
  },
  {
   "cell_type": "code",
   "execution_count": 15,
   "id": "9ec59b8b",
   "metadata": {
    "execution": {
     "iopub.execute_input": "2023-03-26T21:29:24.414686Z",
     "iopub.status.busy": "2023-03-26T21:29:24.414183Z",
     "iopub.status.idle": "2023-03-26T21:29:24.574585Z",
     "shell.execute_reply": "2023-03-26T21:29:24.573276Z"
    },
    "papermill": {
     "duration": 0.171806,
     "end_time": "2023-03-26T21:29:24.577297",
     "exception": false,
     "start_time": "2023-03-26T21:29:24.405491",
     "status": "completed"
    },
    "scrolled": true,
    "tags": []
   },
   "outputs": [
    {
     "data": {
      "text/html": [
       "<div>\n",
       "<style scoped>\n",
       "    .dataframe tbody tr th:only-of-type {\n",
       "        vertical-align: middle;\n",
       "    }\n",
       "\n",
       "    .dataframe tbody tr th {\n",
       "        vertical-align: top;\n",
       "    }\n",
       "\n",
       "    .dataframe thead th {\n",
       "        text-align: right;\n",
       "    }\n",
       "</style>\n",
       "<table border=\"1\" class=\"dataframe\">\n",
       "  <thead>\n",
       "    <tr style=\"text-align: right;\">\n",
       "      <th>Column</th>\n",
       "      <th>Subflow Bwd Byts</th>\n",
       "      <th>SYN Flag Cnt</th>\n",
       "      <th>Dst Port</th>\n",
       "      <th>CWE Flag Count</th>\n",
       "      <th>Flow Duration</th>\n",
       "      <th>Init Fwd Win Byts</th>\n",
       "      <th>Bwd Blk Rate Avg</th>\n",
       "      <th>Bwd Header Len</th>\n",
       "      <th>Fwd Pkt Len Std</th>\n",
       "      <th>Tot Bwd Pkts</th>\n",
       "    </tr>\n",
       "  </thead>\n",
       "  <tbody>\n",
       "    <tr>\n",
       "      <th>0</th>\n",
       "      <td>22</td>\n",
       "      <td>6</td>\n",
       "      <td>20553406</td>\n",
       "      <td>10</td>\n",
       "      <td>7</td>\n",
       "      <td>1063</td>\n",
       "      <td>1297</td>\n",
       "      <td>744</td>\n",
       "      <td>0</td>\n",
       "      <td>106.3</td>\n",
       "    </tr>\n",
       "    <tr>\n",
       "      <th>1</th>\n",
       "      <td>34989</td>\n",
       "      <td>6</td>\n",
       "      <td>790</td>\n",
       "      <td>2</td>\n",
       "      <td>0</td>\n",
       "      <td>848</td>\n",
       "      <td>0</td>\n",
       "      <td>848</td>\n",
       "      <td>0</td>\n",
       "      <td>424.0</td>\n",
       "    </tr>\n",
       "    <tr>\n",
       "      <th>2</th>\n",
       "      <td>500</td>\n",
       "      <td>17</td>\n",
       "      <td>99745913</td>\n",
       "      <td>5</td>\n",
       "      <td>0</td>\n",
       "      <td>2500</td>\n",
       "      <td>0</td>\n",
       "      <td>500</td>\n",
       "      <td>500</td>\n",
       "      <td>500.0</td>\n",
       "    </tr>\n",
       "    <tr>\n",
       "      <th>3</th>\n",
       "      <td>500</td>\n",
       "      <td>17</td>\n",
       "      <td>99745913</td>\n",
       "      <td>5</td>\n",
       "      <td>0</td>\n",
       "      <td>2500</td>\n",
       "      <td>0</td>\n",
       "      <td>500</td>\n",
       "      <td>500</td>\n",
       "      <td>500.0</td>\n",
       "    </tr>\n",
       "    <tr>\n",
       "      <th>4</th>\n",
       "      <td>500</td>\n",
       "      <td>17</td>\n",
       "      <td>89481361</td>\n",
       "      <td>6</td>\n",
       "      <td>0</td>\n",
       "      <td>3000</td>\n",
       "      <td>0</td>\n",
       "      <td>500</td>\n",
       "      <td>500</td>\n",
       "      <td>500.0</td>\n",
       "    </tr>\n",
       "    <tr>\n",
       "      <th>5</th>\n",
       "      <td>500</td>\n",
       "      <td>17</td>\n",
       "      <td>89481358</td>\n",
       "      <td>6</td>\n",
       "      <td>0</td>\n",
       "      <td>3000</td>\n",
       "      <td>0</td>\n",
       "      <td>500</td>\n",
       "      <td>500</td>\n",
       "      <td>500.0</td>\n",
       "    </tr>\n",
       "    <tr>\n",
       "      <th>6</th>\n",
       "      <td>0</td>\n",
       "      <td>0</td>\n",
       "      <td>112642633</td>\n",
       "      <td>3</td>\n",
       "      <td>0</td>\n",
       "      <td>0</td>\n",
       "      <td>0</td>\n",
       "      <td>0</td>\n",
       "      <td>0</td>\n",
       "      <td>0.0</td>\n",
       "    </tr>\n",
       "    <tr>\n",
       "      <th>7</th>\n",
       "      <td>500</td>\n",
       "      <td>17</td>\n",
       "      <td>89480759</td>\n",
       "      <td>6</td>\n",
       "      <td>0</td>\n",
       "      <td>3000</td>\n",
       "      <td>0</td>\n",
       "      <td>500</td>\n",
       "      <td>500</td>\n",
       "      <td>500.0</td>\n",
       "    </tr>\n",
       "    <tr>\n",
       "      <th>8</th>\n",
       "      <td>500</td>\n",
       "      <td>17</td>\n",
       "      <td>89480759</td>\n",
       "      <td>6</td>\n",
       "      <td>0</td>\n",
       "      <td>3000</td>\n",
       "      <td>0</td>\n",
       "      <td>500</td>\n",
       "      <td>500</td>\n",
       "      <td>500.0</td>\n",
       "    </tr>\n",
       "    <tr>\n",
       "      <th>9</th>\n",
       "      <td>500</td>\n",
       "      <td>17</td>\n",
       "      <td>117573650</td>\n",
       "      <td>3</td>\n",
       "      <td>0</td>\n",
       "      <td>1500</td>\n",
       "      <td>0</td>\n",
       "      <td>500</td>\n",
       "      <td>500</td>\n",
       "      <td>500.0</td>\n",
       "    </tr>\n",
       "  </tbody>\n",
       "</table>\n",
       "</div>"
      ],
      "text/plain": [
       "Column  Subflow Bwd Byts  SYN Flag Cnt   Dst Port  CWE Flag Count  \\\n",
       "0                     22             6   20553406              10   \n",
       "1                  34989             6        790               2   \n",
       "2                    500            17   99745913               5   \n",
       "3                    500            17   99745913               5   \n",
       "4                    500            17   89481361               6   \n",
       "5                    500            17   89481358               6   \n",
       "6                      0             0  112642633               3   \n",
       "7                    500            17   89480759               6   \n",
       "8                    500            17   89480759               6   \n",
       "9                    500            17  117573650               3   \n",
       "\n",
       "Column  Flow Duration  Init Fwd Win Byts  Bwd Blk Rate Avg  Bwd Header Len  \\\n",
       "0                   7               1063              1297             744   \n",
       "1                   0                848                 0             848   \n",
       "2                   0               2500                 0             500   \n",
       "3                   0               2500                 0             500   \n",
       "4                   0               3000                 0             500   \n",
       "5                   0               3000                 0             500   \n",
       "6                   0                  0                 0               0   \n",
       "7                   0               3000                 0             500   \n",
       "8                   0               3000                 0             500   \n",
       "9                   0               1500                 0             500   \n",
       "\n",
       "Column  Fwd Pkt Len Std  Tot Bwd Pkts  \n",
       "0                     0         106.3  \n",
       "1                     0         424.0  \n",
       "2                   500         500.0  \n",
       "3                   500         500.0  \n",
       "4                   500         500.0  \n",
       "5                   500         500.0  \n",
       "6                     0           0.0  \n",
       "7                   500         500.0  \n",
       "8                   500         500.0  \n",
       "9                   500         500.0  "
      ]
     },
     "execution_count": 15,
     "metadata": {},
     "output_type": "execute_result"
    }
   ],
   "source": [
    "#Our scaled data. \n",
    "model=scaler.fit(X)\n",
    "scaled_data=model.transform(X)\n",
    "X=pd.DataFrame(X)\n",
    "X.columns=featureRel['Column'][0:10]\n",
    "\n",
    "X.head(10)"
   ]
  },
  {
   "cell_type": "code",
   "execution_count": 16,
   "id": "cd294acd",
   "metadata": {
    "execution": {
     "iopub.execute_input": "2023-03-26T21:29:24.594091Z",
     "iopub.status.busy": "2023-03-26T21:29:24.593255Z",
     "iopub.status.idle": "2023-03-26T21:29:24.598368Z",
     "shell.execute_reply": "2023-03-26T21:29:24.597215Z"
    },
    "papermill": {
     "duration": 0.01615,
     "end_time": "2023-03-26T21:29:24.600877",
     "exception": false,
     "start_time": "2023-03-26T21:29:24.584727",
     "status": "completed"
    },
    "tags": []
   },
   "outputs": [],
   "source": [
    "# Train Test Split the Data\n",
    "from sklearn.model_selection import train_test_split"
   ]
  },
  {
   "cell_type": "code",
   "execution_count": 17,
   "id": "eec2dec5",
   "metadata": {
    "execution": {
     "iopub.execute_input": "2023-03-26T21:29:24.618315Z",
     "iopub.status.busy": "2023-03-26T21:29:24.617137Z",
     "iopub.status.idle": "2023-03-26T21:29:24.902329Z",
     "shell.execute_reply": "2023-03-26T21:29:24.901184Z"
    },
    "papermill": {
     "duration": 0.296863,
     "end_time": "2023-03-26T21:29:24.905218",
     "exception": false,
     "start_time": "2023-03-26T21:29:24.608355",
     "status": "completed"
    },
    "tags": []
   },
   "outputs": [],
   "source": [
    "#Encoding our target variable\n",
    "y.replace('Benign',0,inplace=True)\n",
    "y.replace('Bot',1,inplace=True)"
   ]
  },
  {
   "cell_type": "code",
   "execution_count": 18,
   "id": "048e733d",
   "metadata": {
    "execution": {
     "iopub.execute_input": "2023-03-26T21:29:24.922737Z",
     "iopub.status.busy": "2023-03-26T21:29:24.921778Z",
     "iopub.status.idle": "2023-03-26T21:29:25.113093Z",
     "shell.execute_reply": "2023-03-26T21:29:25.111776Z"
    },
    "papermill": {
     "duration": 0.20323,
     "end_time": "2023-03-26T21:29:25.116127",
     "exception": false,
     "start_time": "2023-03-26T21:29:24.912897",
     "status": "completed"
    },
    "tags": []
   },
   "outputs": [],
   "source": [
    "# Splitting the data for the purpose of cross validation.\n",
    "X_train, X_test, y_train, y_test = train_test_split(X, y, random_state=0, train_size = .70)"
   ]
  },
  {
   "cell_type": "code",
   "execution_count": 19,
   "id": "4edc2d2a",
   "metadata": {
    "execution": {
     "iopub.execute_input": "2023-03-26T21:29:25.133271Z",
     "iopub.status.busy": "2023-03-26T21:29:25.132130Z",
     "iopub.status.idle": "2023-03-26T21:29:25.150101Z",
     "shell.execute_reply": "2023-03-26T21:29:25.148733Z"
    },
    "papermill": {
     "duration": 0.029364,
     "end_time": "2023-03-26T21:29:25.152798",
     "exception": false,
     "start_time": "2023-03-26T21:29:25.123434",
     "status": "completed"
    },
    "tags": []
   },
   "outputs": [
    {
     "data": {
      "text/plain": [
       "0                   1042603\n",
       "Brute Force -Web        249\n",
       "Brute Force -XSS         79\n",
       "SQL Injection            34\n",
       "Name: Label, dtype: int64"
      ]
     },
     "execution_count": 19,
     "metadata": {},
     "output_type": "execute_result"
    }
   ],
   "source": [
    "# Dataset is heavily imbalanced.\n",
    "y.value_counts()"
   ]
  },
  {
   "cell_type": "code",
   "execution_count": 34,
   "id": "50c8563d",
   "metadata": {
    "scrolled": true
   },
   "outputs": [
    {
     "name": "stdout",
     "output_type": "stream",
     "text": [
      "Column\n",
      "Subflow Bwd Byts     int32\n",
      "SYN Flag Cnt         int32\n",
      "Dst Port             int32\n",
      "CWE Flag Count       int32\n",
      "Flow Duration        int32\n",
      "Init Fwd Win Byts    int32\n",
      "Bwd Blk Rate Avg     int32\n",
      "Bwd Header Len       int32\n",
      "Fwd Pkt Len Std      int32\n",
      "Tot Bwd Pkts         int32\n",
      "dtype: object\n",
      "object\n",
      "Column\n",
      "Subflow Bwd Byts     int32\n",
      "SYN Flag Cnt         int32\n",
      "Dst Port             int32\n",
      "CWE Flag Count       int32\n",
      "Flow Duration        int32\n",
      "Init Fwd Win Byts    int32\n",
      "Bwd Blk Rate Avg     int32\n",
      "Bwd Header Len       int32\n",
      "Fwd Pkt Len Std      int32\n",
      "Tot Bwd Pkts         int32\n",
      "dtype: object\n",
      "object\n"
     ]
    }
   ],
   "source": [
    "\n",
    "print(X_train.dtypes)\n",
    "print(y_train.dtypes)\n",
    "print(X_test.dtypes)\n",
    "print(y_test.dtypes)"
   ]
  },
  {
   "cell_type": "code",
   "execution_count": 35,
   "id": "560beb13",
   "metadata": {},
   "outputs": [
    {
     "name": "stdout",
     "output_type": "stream",
     "text": [
      "(730075, 10)\n",
      "(730075,)\n",
      "(312890, 10)\n",
      "object\n"
     ]
    }
   ],
   "source": [
    "print(X_train.shape)\n",
    "print(y_train.shape)\n",
    "print(X_test.shape)\n",
    "print(y_test.dtypes)"
   ]
  },
  {
   "cell_type": "code",
   "execution_count": 28,
   "id": "44fef13c",
   "metadata": {
    "execution": {
     "iopub.execute_input": "2023-03-26T21:29:25.170079Z",
     "iopub.status.busy": "2023-03-26T21:29:25.169630Z",
     "iopub.status.idle": "2023-03-26T21:29:33.087166Z",
     "shell.execute_reply": "2023-03-26T21:29:33.085774Z"
    },
    "papermill": {
     "duration": 7.929981,
     "end_time": "2023-03-26T21:29:33.090469",
     "exception": false,
     "start_time": "2023-03-26T21:29:25.160488",
     "status": "completed"
    },
    "tags": []
   },
   "outputs": [],
   "source": [
    "from keras.models import Sequential\n",
    "from keras.layers import Dense,Conv1D,MaxPooling2D,BatchNormalization,Flatten,Dropout,Conv2D,Input\n",
    "from keras.optimizers import SGD\n",
    "from keras.losses import categorical_crossentropy as csentropy"
   ]
  },
  {
   "cell_type": "code",
   "execution_count": 43,
   "id": "35d3cc96",
   "metadata": {},
   "outputs": [],
   "source": [
    "y_train = y_train.astype(str)\n",
    "y_test = y_test.astype(str)\n"
   ]
  },
  {
   "cell_type": "code",
   "execution_count": 46,
   "id": "60d2f164",
   "metadata": {
    "papermill": {
     "duration": 1.426575,
     "end_time": "2023-03-26T21:50:36.638368",
     "exception": false,
     "start_time": "2023-03-26T21:50:35.211793",
     "status": "completed"
    },
    "tags": []
   },
   "outputs": [],
   "source": [
    "from sklearn.preprocessing import LabelEncoder\n",
    "\n",
    "label_encoder = LabelEncoder()\n",
    "y_train_encoded = label_encoder.fit_transform(y_train)\n",
    "y_test_encoded = label_encoder.transform(y_test)\n"
   ]
  },
  {
   "cell_type": "code",
   "execution_count": 47,
   "id": "a34deac7",
   "metadata": {},
   "outputs": [
    {
     "name": "stdout",
     "output_type": "stream",
     "text": [
      "Epoch 1/2\n",
      "22815/22815 [==============================] - 58s 3ms/step - loss: 0.0000e+00 - accuracy: 0.9996 - val_loss: 0.0000e+00 - val_accuracy: 0.9997\n",
      "Epoch 2/2\n",
      "22815/22815 [==============================] - 57s 2ms/step - loss: 0.0000e+00 - accuracy: 0.9996 - val_loss: 0.0000e+00 - val_accuracy: 0.9997\n"
     ]
    },
    {
     "data": {
      "text/plain": [
       "<keras.callbacks.History at 0x21cb83141c0>"
      ]
     },
     "execution_count": 47,
     "metadata": {},
     "output_type": "execute_result"
    }
   ],
   "source": [
    "model.fit(X_train, y_train_encoded, epochs=2, validation_data=(X_test, y_test_encoded), batch_size=32, verbose=1)\n"
   ]
  },
  {
   "cell_type": "code",
   "execution_count": 48,
   "id": "d0136c8b",
   "metadata": {},
   "outputs": [
    {
     "name": "stdout",
     "output_type": "stream",
     "text": [
      "Accuracy with Random Forest: 0.9998497874652433\n",
      "Classification Report:\n",
      "                   precision    recall  f1-score   support\n",
      "\n",
      "               0       1.00      1.00      1.00    312795\n",
      "Brute Force -Web       0.80      0.69      0.74        65\n",
      "Brute Force -XSS       0.93      0.62      0.74        21\n",
      "   SQL Injection       1.00      0.22      0.36         9\n",
      "\n",
      "        accuracy                           1.00    312890\n",
      "       macro avg       0.93      0.63      0.71    312890\n",
      "    weighted avg       1.00      1.00      1.00    312890\n",
      "\n"
     ]
    },
    {
     "data": {
      "image/png": "[encoded data removed]",
      "text/plain": [
       "<Figure size 800x600 with 2 Axes>"
      ]
     },
     "metadata": {},
     "output_type": "display_data"
    }
   ],
   "source": [
    "from sklearn.ensemble import RandomForestClassifier\n",
    "from sklearn.metrics import classification_report, confusion_matrix\n",
    "import matplotlib.pyplot as plt\n",
    "import seaborn as sns\n",
    "\n",
    "# Create a Random Forest classifier\n",
    "rf_model = RandomForestClassifier()\n",
    "\n",
    "# Train the Random Forest model\n",
    "rf_model.fit(X_train, y_train)\n",
    "\n",
    "# Predict labels for the test data\n",
    "y_pred = rf_model.predict(X_test)\n",
    "\n",
    "# Evaluate the Random Forest model\n",
    "accuracy = rf_model.score(X_test, y_test)\n",
    "print(\"Accuracy with Random Forest:\", accuracy)\n",
    "\n",
    "# Generate classification report\n",
    "report = classification_report(y_test, y_pred)\n",
    "print(\"Classification Report:\\n\", report)\n",
    "\n",
    "# Generate confusion matrix\n",
    "cm = confusion_matrix(y_test, y_pred)\n",
    "\n",
    "# Plot confusion matrix\n",
    "plt.figure(figsize=(8, 6))\n",
    "sns.heatmap(cm, annot=True, fmt='d', cmap='Blues')\n",
    "plt.xlabel('Predicted labels')\n",
    "plt.ylabel('True labels')\n",
    "plt.title('Confusion Matrix')\n",
    "plt.show()\n"
   ]
  },
  {
   "cell_type": "code",
   "execution_count": 49,
   "id": "26238700",
   "metadata": {},
   "outputs": [
    {
     "data": {
      "image/png": "[encoded data removed]",
      "text/plain": [
       "<Figure size 640x480 with 1 Axes>"
      ]
     },
     "metadata": {},
     "output_type": "display_data"
    }
   ],
   "source": [
    "from sklearn.ensemble import RandomForestClassifier\n",
    "from sklearn.metrics import roc_curve, auc\n",
    "from sklearn.preprocessing import label_binarize\n",
    "import numpy as np\n",
    "import matplotlib.pyplot as plt\n",
    "\n",
    "# Create a Random Forest classifier\n",
    "rf_model = RandomForestClassifier()\n",
    "\n",
    "# Train the Random Forest model\n",
    "rf_model.fit(X_train, y_train)\n",
    "\n",
    "# Convert the true labels to binary format\n",
    "y_test_bin = label_binarize(y_test, classes=np.unique(y_train))\n",
    "\n",
    "# Get predicted probabilities for each class\n",
    "y_pred_proba = rf_model.predict_proba(X_test)\n",
    "\n",
    "# Compute ROC curve and AUC for each class\n",
    "fpr = dict()\n",
    "tpr = dict()\n",
    "auc_score = dict()\n",
    "n_classes = y_test_bin.shape[1]\n",
    "for i in range(n_classes):\n",
    "    fpr[i], tpr[i], _ = roc_curve(y_test_bin[:, i], y_pred_proba[:, i])\n",
    "    auc_score[i] = auc(fpr[i], tpr[i])\n",
    "\n",
    "# Plot the ROC curve for each class\n",
    "plt.figure()\n",
    "colors = ['b', 'g', 'r', 'c', 'm', 'y', 'k']\n",
    "for i in range(n_classes):\n",
    "    plt.plot(fpr[i], tpr[i], color=colors[i], label='Class %d (AUC = %.2f)' % (i, auc_score[i]))\n",
    "\n",
    "plt.plot([0, 1], [0, 1], 'k--')\n",
    "plt.xlabel('False Positive Rate')\n",
    "plt.ylabel('True Positive Rate')\n",
    "plt.title('ROC Curve - Multiclass')\n",
    "plt.legend(loc='lower right')\n",
    "plt.show()\n"
   ]
  },
  {
   "cell_type": "code",
   "execution_count": 50,
   "id": "01909ad6",
   "metadata": {},
   "outputs": [
    {
     "name": "stdout",
     "output_type": "stream",
     "text": [
      "Accuracy with Random Forest: 0.9998497874652433\n",
      "[ 4.35967912e-03 -3.19601138e-07  2.36089360e-03  1.62350986e-02\n",
      "  5.11361820e-06  7.60650708e-05  1.27840455e-06  3.57953274e-05\n",
      "  0.00000000e+00  8.30962958e-06]\n",
      "Subflow Bwd Byts: 0.0043596791204576265\n",
      "SYN Flag Cnt: -3.1960113778817244e-07\n",
      "Dst Port: 0.002360893604781178\n",
      "CWE Flag Count: 0.01623509859695097\n",
      "Flow Duration: 5.1136182044331235e-06\n",
      "Init Fwd Win Byts: 7.606507079163105e-05\n",
      "Bwd Blk Rate Avg: 1.2784045510860763e-06\n",
      "Bwd Header Len: 3.5795327431331626e-05\n",
      "Fwd Pkt Len Std: 0.0\n",
      "Tot Bwd Pkts: 8.309629582248234e-06\n"
     ]
    }
   ],
   "source": [
    "import eli5\n",
    "from sklearn.ensemble import RandomForestClassifier\n",
    "from sklearn.inspection import permutation_importance\n",
    "\n",
    "# Create a Random Forest classifier\n",
    "rf_model = RandomForestClassifier()\n",
    "\n",
    "# Train the Random Forest model\n",
    "rf_model.fit(X_train, y_train)\n",
    "\n",
    "# Evaluate the Random Forest model\n",
    "accuracy = rf_model.score(X_test, y_test)\n",
    "print(\"Accuracy with Random Forest:\", accuracy)\n",
    "\n",
    "# Calculate feature importance using permutation importance\n",
    "result = permutation_importance(rf_model, X_test, y_test, n_repeats=10, random_state=42)\n",
    "feature_importance = result.importances_mean\n",
    "print(feature_importance)\n",
    "# Display feature importance\n",
    "for feature_name, importance in zip(X_test.columns, feature_importance):\n",
    "    print(f\"{feature_name}: {importance}\")\n"
   ]
  },
  {
   "cell_type": "code",
   "execution_count": 51,
   "id": "5e38be7a",
   "metadata": {},
   "outputs": [
    {
     "name": "stdout",
     "output_type": "stream",
     "text": [
      "Accuracy with Random Forest: 0.9998497874652433\n"
     ]
    },
    {
     "data": {
      "image/png": "[encoded data removed]",
      "text/plain": [
       "<Figure size 640x480 with 1 Axes>"
      ]
     },
     "metadata": {},
     "output_type": "display_data"
    },
    {
     "data": {
      "image/png": "[encoded data removed]",
      "text/plain": [
       "<Figure size 640x480 with 1 Axes>"
      ]
     },
     "metadata": {},
     "output_type": "display_data"
    }
   ],
   "source": [
    "from sklearn.ensemble import RandomForestClassifier\n",
    "from sklearn.inspection import permutation_importance\n",
    "from pycebox.ice import ice_plot\n",
    "import numpy as np\n",
    "import matplotlib.pyplot as plt\n",
    "\n",
    "# Step 1: Import the necessary libraries\n",
    "\n",
    "# Step 2: Train the Random Forest model\n",
    "rf_model = RandomForestClassifier()\n",
    "rf_model.fit(X_train, y_train)\n",
    "\n",
    "# Step 3: Evaluate the model's performance\n",
    "accuracy = rf_model.score(X_test, y_test)\n",
    "print(\"Accuracy with Random Forest:\", accuracy)\n",
    "\n",
    "# Step 4: Obtain feature importance\n",
    "importance = rf_model.feature_importances_\n",
    "\n",
    "# Step 5: Visualize feature importance\n",
    "sorted_indices = np.argsort(importance)\n",
    "sorted_features = X_train.columns[sorted_indices]\n",
    "\n",
    "plt.barh(range(len(importance)), importance[sorted_indices])\n",
    "plt.yticks(range(len(importance)), sorted_features)\n",
    "plt.xlabel(\"Feature Importance\")\n",
    "plt.ylabel(\"Features\")\n",
    "plt.title(\"Random Forest Feature Importance\")\n",
    "plt.show()\n",
    "\n",
    "# Step 6: Further analysis\n",
    "\n",
    "# Permutation Importance\n",
    "result = permutation_importance(rf_model, X_test, y_test, n_repeats=10, random_state=42)\n",
    "sorted_indices = result.importances_mean.argsort()\n",
    "sorted_features = X_train.columns[sorted_indices]\n",
    "\n",
    "plt.barh(range(len(result.importances_mean)), result.importances_mean[sorted_indices])\n",
    "plt.yticks(range(len(result.importances_mean)), sorted_features)\n",
    "plt.xlabel(\"Permutation Importance\")\n",
    "plt.ylabel(\"Features\")\n",
    "plt.title(\"Random Forest Permutation Importance\")\n",
    "plt.show()\n"
   ]
  },
  {
   "cell_type": "code",
   "execution_count": 52,
   "id": "cc2e81a4",
   "metadata": {},
   "outputs": [
    {
     "name": "stdout",
     "output_type": "stream",
     "text": [
      "Accuracy with Random Forest: 0.9998497874652433\n",
      "Accuracy with New Random Forest: 0.99984019943111\n"
     ]
    }
   ],
   "source": [
    "import pandas as pd\n",
    "from sklearn.ensemble import RandomForestClassifier\n",
    "from sklearn.model_selection import train_test_split\n",
    "import eli5\n",
    "from eli5.sklearn import PermutationImportance\n",
    "\n",
    "#  train the Random Forest classifier\n",
    "rf_model = RandomForestClassifier()\n",
    "rf_model.fit(X_train, y_train)\n",
    "\n",
    "# Evaluate the model accuracy\n",
    "accuracy = rf_model.score(X_test, y_test)\n",
    "print(\"Accuracy with Random Forest:\", accuracy)\n",
    "\n",
    "# Apply explainability techniques using Permutation Importance\n",
    "perm = PermutationImportance(rf_model, random_state=1).fit(X_test, y_test)\n",
    "\n",
    "# Get feature names in the same order as they were during fit\n",
    "feature_names = X_test.columns.tolist()\n",
    "\n",
    "# Show feature importances\n",
    "eli5.show_weights(perm, feature_names=feature_names)\n",
    "\n",
    "# Create a new model using the important features\n",
    "important_features = eli5.explain_weights_df(perm, feature_names=feature_names)['feature']\n",
    "X_train_new = X_train[important_features]\n",
    "X_test_new = X_test[important_features]\n",
    "\n",
    "# Create and train the new Random Forest classifier with important features\n",
    "rf_model_new = RandomForestClassifier()\n",
    "rf_model_new.fit(X_train_new, y_train)\n",
    "\n",
    "accuracy_new = rf_model_new.score(X_test_new, y_test)\n",
    "print(\"Accuracy with New Random Forest:\", accuracy_new)"
   ]
  },
  {
   "cell_type": "code",
   "execution_count": 53,
   "id": "52d16f6c",
   "metadata": {
    "scrolled": false
   },
   "outputs": [
    {
     "name": "stderr",
     "output_type": "stream",
     "text": [
      "C:\\Users\\apatel\\anaconda3\\lib\\site-packages\\sklearn\\linear_model\\_logistic.py:458: ConvergenceWarning: lbfgs failed to converge (status=1):\n",
      "STOP: TOTAL NO. of ITERATIONS REACHED LIMIT.\n",
      "\n",
      "Increase the number of iterations (max_iter) or scale the data as shown in:\n",
      "    https://scikit-learn.org/stable/modules/preprocessing.html\n",
      "Please also refer to the documentation for alternative solver options:\n",
      "    https://scikit-learn.org/stable/modules/linear_model.html#logistic-regression\n",
      "  n_iter_i = _check_optimize_result(\n"
     ]
    },
    {
     "name": "stdout",
     "output_type": "stream",
     "text": [
      "Accuracy with data augmentation: 0.7983508581290549\n"
     ]
    }
   ],
   "source": [
    "from imblearn.over_sampling import SMOTE\n",
    "from sklearn.preprocessing import MinMaxScaler\n",
    "from sklearn.linear_model import LogisticRegression\n",
    "from sklearn.metrics import accuracy_score\n",
    "\n",
    "# Scale the features using MinMaxScaler\n",
    "scaler = MinMaxScaler()\n",
    "X_train_scaled = scaler.fit_transform(X_train)\n",
    "X_test_scaled = scaler.transform(X_test)\n",
    "\n",
    "# Apply SMOTE to oversample the minority class\n",
    "smote = SMOTE()\n",
    "X_train_aug, y_train_aug = smote.fit_resample(X_train_scaled, y_train)\n",
    "\n",
    "# Train a Logistic Regression model\n",
    "model = LogisticRegression()\n",
    "model.fit(X_train_aug, y_train_aug)\n",
    "\n",
    "# Predict on the test set\n",
    "y_pred = model.predict(X_test_scaled)\n",
    "\n",
    "# Evaluate the model\n",
    "accuracy = accuracy_score(y_test, y_pred)\n",
    "print(\"Accuracy with data augmentation:\", accuracy)\n"
   ]
  },
  {
   "cell_type": "code",
   "execution_count": 54,
   "id": "5424ec2b",
   "metadata": {},
   "outputs": [
    {
     "name": "stderr",
     "output_type": "stream",
     "text": [
      "C:\\Users\\apatel\\anaconda3\\lib\\site-packages\\sklearn\\linear_model\\_logistic.py:458: ConvergenceWarning: lbfgs failed to converge (status=1):\n",
      "STOP: TOTAL NO. of ITERATIONS REACHED LIMIT.\n",
      "\n",
      "Increase the number of iterations (max_iter) or scale the data as shown in:\n",
      "    https://scikit-learn.org/stable/modules/preprocessing.html\n",
      "Please also refer to the documentation for alternative solver options:\n",
      "    https://scikit-learn.org/stable/modules/linear_model.html#logistic-regression\n",
      "  n_iter_i = _check_optimize_result(\n"
     ]
    },
    {
     "name": "stdout",
     "output_type": "stream",
     "text": [
      "Accuracy with data augmentation: 0.9265524625267666\n"
     ]
    }
   ],
   "source": [
    "from imblearn.over_sampling import SMOTE\n",
    "from sklearn.metrics import accuracy_score\n",
    "\n",
    "# Apply SMOTE to oversample the minority class\n",
    "smote = SMOTE()\n",
    "X_train_aug, y_train_aug = smote.fit_resample(X_train, y_train)\n",
    "\n",
    "# Train and evaluate your model using the augmented data\n",
    "model.fit(X_train_aug, y_train_aug)\n",
    "y_pred = model.predict(X_test)\n",
    "accuracy = accuracy_score(y_test, y_pred)\n",
    "print(\"Accuracy with data augmentation:\", accuracy)\n"
   ]
  },
  {
   "cell_type": "code",
   "execution_count": null,
   "id": "a14b1f6f",
   "metadata": {},
   "outputs": [],
   "source": [
    "from sklearn.model_selection import GridSearchCV\n",
    "from sklearn.svm import SVC\n",
    "\n",
    "# Define the parameter grid for hyperparameter tuning\n",
    "param_grid = {'C': [0.1, 1, 10], 'kernel': ['linear', 'rbf']}\n",
    "\n",
    "# Create a Support Vector Machine (SVM) classifier\n",
    "svm_model = SVC()\n",
    "\n",
    "# Perform grid search cross-validation for hyperparameter tuning\n",
    "grid_search = GridSearchCV(svm_model, param_grid, cv=5)\n",
    "grid_search.fit(X_train, y_train)\n",
    "\n",
    "# Get the best model and evaluate on the test set\n",
    "best_model = grid_search.best_estimator_\n",
    "accuracy = best_model.score(X_test, y_test)\n",
    "print(\"Accuracy with hyperparameter tuning:\", accuracy)"
   ]
  }
 ],
 "metadata": {
  "kernelspec": {
   "display_name": "Python 3 (ipykernel)",
   "language": "python",
   "name": "python3"
  },
  "language_info": {
   "codemirror_mode": {
    "name": "ipython",
    "version": 3
   },
   "file_extension": ".py",
   "mimetype": "text/x-python",
   "name": "python",
   "nbconvert_exporter": "python",
   "pygments_lexer": "ipython3",
   "version": "3.10.9"
  },
  "papermill": {
   "default_parameters": {},
   "duration": 1402.848763,
   "end_time": "2023-03-26T21:50:41.413175",
   "environment_variables": {},
   "exception": null,
   "input_path": "__notebook__.ipynb",
   "output_path": "__notebook__.ipynb",
   "parameters": {},
   "start_time": "2023-03-26T21:27:18.564412",
   "version": "2.4.0"
  }
 },
 "nbformat": 4,
 "nbformat_minor": 5
}
